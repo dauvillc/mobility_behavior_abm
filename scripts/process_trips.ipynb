{
 "cells": [
  {
   "cell_type": "markdown",
   "id": "19713148-52a5-4470-aa29-08b4a3a69b7b",
   "metadata": {
    "pycharm": {
     "name": "#%% md\n"
    }
   },
   "source": [
    "# Extracting trips from the MATSIM results"
   ]
  },
  {
   "cell_type": "markdown",
   "id": "bd3ceee1-d517-4ed3-b90d-c95acfacd4fd",
   "metadata": {
    "pycharm": {
     "name": "#%% md\n"
    }
   },
   "source": [
    "## Imports"
   ]
  },
  {
   "cell_type": "code",
   "execution_count": 1,
   "id": "15d442f6-539a-4a7b-ba5e-3adf9ee995ad",
   "metadata": {
    "pycharm": {
     "name": "#%%\n"
    }
   },
   "outputs": [
    {
     "name": "stderr",
     "output_type": "stream",
     "text": [
      "/home/clement/.conda/envs/covid/lib/python3.9/site-packages/scipy/__init__.py:146: UserWarning: A NumPy version >=1.16.5 and <1.23.0 is required for this version of SciPy (detected version 1.23.1\n",
      "  warnings.warn(f\"A NumPy version >={np_minversion} and <{np_maxversion}\"\n"
     ]
    }
   ],
   "source": [
    "import pandas as pd\n",
    "import numpy as np\n",
    "import matplotlib.pyplot as plt\n",
    "import seaborn as sns\n",
    "import gzip\n",
    "import os\n",
    "from xml.etree import ElementTree"
   ]
  },
  {
   "cell_type": "markdown",
   "id": "ba28c161-1097-4f8a-9a10-2d502247cc63",
   "metadata": {},
   "source": [
    "## Extracting public transport trips\n",
    "The transport dataset contains all trips of individuals, of any mode including walking. However, we'll only consider public transports here. Hence, we'll have to filter the full dataset, which would otherwise be much too large to load in memory anyway."
   ]
  },
  {
   "cell_type": "code",
   "execution_count": 4,
   "id": "c75eb438-91e2-4aa9-9baf-3daa9e0aca46",
   "metadata": {
    "pycharm": {
     "name": "#%%\n"
    }
   },
   "outputs": [],
   "source": [
    "_POPULATION_TRANSPORTS_PATH_ = \"../data/extracted_data/matsim_population_transports.csv.gz\"\n",
    "_PUBLIC_TRANSPORTS_PATH_ = \"../data/extracted_data/matsim_population_public_transports.csv.gz\""
   ]
  },
  {
   "cell_type": "code",
   "execution_count": 5,
   "id": "895ab16e-0782-4ca7-ae1f-9fc5d2f61806",
   "metadata": {},
   "outputs": [
    {
     "name": "stdout",
     "output_type": "stream",
     "text": [
      "Processed 0 chunks - 0 rows\n",
      "Processed 1 chunks - 2000000 rows\n",
      "Processed 2 chunks - 4000000 rows\n",
      "Processed 3 chunks - 6000000 rows\n",
      "Processed 4 chunks - 8000000 rows\n",
      "Processed 5 chunks - 10000000 rows\n",
      "Processed 6 chunks - 12000000 rows\n",
      "Processed 7 chunks - 14000000 rows\n",
      "Processed 8 chunks - 16000000 rows\n",
      "Processed 9 chunks - 18000000 rows\n",
      "Processed 10 chunks - 20000000 rows\n",
      "Processed 11 chunks - 22000000 rows\n",
      "Processed 12 chunks - 24000000 rows\n",
      "Processed 13 chunks - 26000000 rows\n",
      "Processed 14 chunks - 28000000 rows\n",
      "Processed 15 chunks - 30000000 rows\n",
      "Processed 16 chunks - 32000000 rows\n",
      "Processed 17 chunks - 34000000 rows\n"
     ]
    }
   ],
   "source": [
    "CHUNKSIZE = 2000000\n",
    "# Since we'll write the results in 'append' mode, we need to make sure it doesn't exist already\n",
    "# so that running the code will fully recreate the results\n",
    "if os.path.exists(_PUBLIC_TRANSPORTS_PATH_):\n",
    "    os.remove(_PUBLIC_TRANSPORTS_PATH_)\n",
    "\n",
    "with pd.read_csv(_POPULATION_TRANSPORTS_PATH_, index_col=0, chunksize=CHUNKSIZE) as full_df:\n",
    "    for k, chunk in enumerate(full_df):\n",
    "        print(f\"Processed {k} chunks - {k * CHUNKSIZE} rows\")\n",
    "        chunk = chunk[chunk['mode'] == 'pt']\n",
    "        chunk.to_csv(_PUBLIC_TRANSPORTS_PATH_, mode=\"a\", header=(k == 0))"
   ]
  },
  {
   "cell_type": "markdown",
   "id": "e7188275-de71-4539-8a9c-3cc5c997dd79",
   "metadata": {
    "pycharm": {
     "name": "#%% md\n"
    }
   },
   "source": [
    "# Deducing transports from links"
   ]
  },
  {
   "cell_type": "code",
   "execution_count": 1,
   "id": "7818a6b9-ddcd-4847-9391-6b04b66038c9",
   "metadata": {
    "pycharm": {
     "name": "#%%\n"
    }
   },
   "outputs": [
    {
     "name": "stderr",
     "output_type": "stream",
     "text": [
      "/home/clement/.conda/envs/covid/lib/python3.9/site-packages/scipy/__init__.py:146: UserWarning: A NumPy version >=1.16.5 and <1.23.0 is required for this version of SciPy (detected version 1.23.1\n",
      "  warnings.warn(f\"A NumPy version >={np_minversion} and <{np_maxversion}\"\n"
     ]
    }
   ],
   "source": [
    "import pandas as pd\n",
    "import numpy as np\n",
    "import matplotlib.pyplot as plt\n",
    "import seaborn as sns\n",
    "import gzip\n",
    "import os\n",
    "import xmltodict\n",
    "from collections import defaultdict, OrderedDict\n",
    "from xml.etree import ElementTree"
   ]
  },
  {
   "cell_type": "markdown",
   "id": "5090ae21-c194-4746-8f80-1565e1f0dd07",
   "metadata": {
    "pycharm": {
     "name": "#%% md\n"
    }
   },
   "source": [
    "## Importing the schedule"
   ]
  },
  {
   "cell_type": "markdown",
   "id": "b2fa8aaf-869a-449e-97cd-e7284c0bef04",
   "metadata": {
    "pycharm": {
     "name": "#%% md\n"
    }
   },
   "source": [
    "Now, we'll also need the transport schedule - see https://github.com/matsim-org/matsim-code-examples/wiki/pt:"
   ]
  },
  {
   "cell_type": "code",
   "execution_count": 2,
   "id": "0aab4e3a-f404-4372-be12-a374068528d7",
   "metadata": {
    "pycharm": {
     "name": "#%%\n"
    }
   },
   "outputs": [],
   "source": [
    "with open('../data/MATSIM_data/switzerland_transit_schedule.xml', 'r') as schedule_xml:\n",
    "    schedule = xmltodict.parse(schedule_xml.read())['transitSchedule']"
   ]
  },
  {
   "cell_type": "markdown",
   "id": "b24c1925-abf0-4971-82a1-2f0b6197274e",
   "metadata": {
    "pycharm": {
     "name": "#%% md\n"
    }
   },
   "source": [
    "A ```transitRoute``` object contains four elements:\n",
    "* A ```transportMode``` indicating the type of transport (e.g. \"bus\");\n",
    "* A ```routeProfile```, a list of all the links that the line actually serves;\n",
    "* A ```route``` element, the list of all road network links that the route goes by - we can ignore this.\n",
    "* A ```departures``` list of all departure times of the route, including the actual vehicles used for each departure."
   ]
  },
  {
   "cell_type": "code",
   "execution_count": 3,
   "id": "b08f377c-5519-4028-8ffe-c0f0b51de8c3",
   "metadata": {
    "pycharm": {
     "name": "#%%\n"
    }
   },
   "outputs": [
    {
     "name": "stdout",
     "output_type": "stream",
     "text": [
      "odict_keys(['transitStops', 'minimalTransferTimes', 'transitLine'])\n",
      "odict_keys(['@id', 'transitRoute'])\n"
     ]
    }
   ],
   "source": [
    "print(schedule.keys())\n",
    "# schedule['transitLine'] is a list of transitLine objects\n",
    "# whose attribute 'transitRoute' is a list of transitRoute objects.\n",
    "print(schedule['transitLine'][0].keys())"
   ]
  },
  {
   "cell_type": "markdown",
   "id": "006b7d59-82c0-421c-b81f-ae8ef487a6af",
   "metadata": {
    "pycharm": {
     "name": "#%% md\n"
    }
   },
   "source": [
    "We don't really mind the lines but rather the ```transitRoute``` objects:"
   ]
  },
  {
   "cell_type": "code",
   "execution_count": 4,
   "id": "fd55693d-db81-45c2-bdcc-07842ef7edae",
   "metadata": {
    "pycharm": {
     "name": "#%%\n"
    }
   },
   "outputs": [],
   "source": [
    "# Concatenates the lists of all transit Routes into a dict <route id> \n",
    "routes = dict()\n",
    "for line in schedule['transitLine']:\n",
    "    for route in line['transitRoute']:\n",
    "        # Some routes are only a single string and don't contain any info, skip them\n",
    "        try:\n",
    "            routes[route['@id']] = route\n",
    "        except:\n",
    "            continue"
   ]
  },
  {
   "cell_type": "markdown",
   "id": "f39fc864-2ce5-4ccd-889d-a139c9c8bff5",
   "metadata": {},
   "source": [
    "We'll now load the public transport data that was creatred in the first section of this notebook:"
   ]
  },
  {
   "cell_type": "code",
   "execution_count": 5,
   "id": "e79e1908-9259-4480-a54c-c42ab98b6aa7",
   "metadata": {},
   "outputs": [
    {
     "data": {
      "text/html": [
       "<div>\n",
       "<style scoped>\n",
       "    .dataframe tbody tr th:only-of-type {\n",
       "        vertical-align: middle;\n",
       "    }\n",
       "\n",
       "    .dataframe tbody tr th {\n",
       "        vertical-align: top;\n",
       "    }\n",
       "\n",
       "    .dataframe thead th {\n",
       "        text-align: right;\n",
       "    }\n",
       "</style>\n",
       "<table border=\"1\" class=\"dataframe\">\n",
       "  <thead>\n",
       "    <tr style=\"text-align: right;\">\n",
       "      <th></th>\n",
       "      <th>id</th>\n",
       "      <th>mode</th>\n",
       "      <th>dep_time</th>\n",
       "      <th>trav_time</th>\n",
       "      <th>start_link</th>\n",
       "      <th>end_link</th>\n",
       "      <th>transitRouteId</th>\n",
       "      <th>boardingTime</th>\n",
       "      <th>transitLineId</th>\n",
       "      <th>accessFacilityId</th>\n",
       "      <th>egressFacilityId</th>\n",
       "    </tr>\n",
       "  </thead>\n",
       "  <tbody>\n",
       "    <tr>\n",
       "      <th>0</th>\n",
       "      <td>100000</td>\n",
       "      <td>pt</td>\n",
       "      <td>2022-10-12 13:25:17</td>\n",
       "      <td>00:04:43</td>\n",
       "      <td>912236</td>\n",
       "      <td>15050</td>\n",
       "      <td>50101_087</td>\n",
       "      <td>13:29:00</td>\n",
       "      <td>PAG_line501</td>\n",
       "      <td>8580501.link:912236</td>\n",
       "      <td>8580502.link:15050</td>\n",
       "    </tr>\n",
       "    <tr>\n",
       "      <th>1</th>\n",
       "      <td>1000001</td>\n",
       "      <td>pt</td>\n",
       "      <td>2022-10-12 11:45:39</td>\n",
       "      <td>00:01:21</td>\n",
       "      <td>741846</td>\n",
       "      <td>492450</td>\n",
       "      <td>07706_001</td>\n",
       "      <td>11:45:39</td>\n",
       "      <td>SBB_R_8500218-8500261</td>\n",
       "      <td>8500207.link:741846</td>\n",
       "      <td>8500206.link:492450</td>\n",
       "    </tr>\n",
       "    <tr>\n",
       "      <th>2</th>\n",
       "      <td>1000005</td>\n",
       "      <td>pt</td>\n",
       "      <td>2022-10-12 12:26:15</td>\n",
       "      <td>00:17:45</td>\n",
       "      <td>160222</td>\n",
       "      <td>187175</td>\n",
       "      <td>02043_024</td>\n",
       "      <td>12:39:00</td>\n",
       "      <td>BOG_line502</td>\n",
       "      <td>8578048.link:160222</td>\n",
       "      <td>8578055.link:187175</td>\n",
       "    </tr>\n",
       "    <tr>\n",
       "      <th>3</th>\n",
       "      <td>1000005</td>\n",
       "      <td>pt</td>\n",
       "      <td>2022-10-12 20:03:09</td>\n",
       "      <td>00:09:51</td>\n",
       "      <td>187174</td>\n",
       "      <td>160221</td>\n",
       "      <td>02038_023</td>\n",
       "      <td>20:08:00</td>\n",
       "      <td>BOG_line502</td>\n",
       "      <td>8578055.link:187174</td>\n",
       "      <td>8578048.link:160221</td>\n",
       "    </tr>\n",
       "    <tr>\n",
       "      <th>4</th>\n",
       "      <td>1000010</td>\n",
       "      <td>pt</td>\n",
       "      <td>2022-10-12 14:36:51</td>\n",
       "      <td>00:20:09</td>\n",
       "      <td>64987</td>\n",
       "      <td>263420</td>\n",
       "      <td>01511_004</td>\n",
       "      <td>14:45:00</td>\n",
       "      <td>SBB_IC_8501120-8506302</td>\n",
       "      <td>8500212.link:64987</td>\n",
       "      <td>8500218.link:263420</td>\n",
       "    </tr>\n",
       "  </tbody>\n",
       "</table>\n",
       "</div>"
      ],
      "text/plain": [
       "        id mode            dep_time trav_time start_link end_link  \\\n",
       "0   100000   pt 2022-10-12 13:25:17  00:04:43     912236    15050   \n",
       "1  1000001   pt 2022-10-12 11:45:39  00:01:21     741846   492450   \n",
       "2  1000005   pt 2022-10-12 12:26:15  00:17:45     160222   187175   \n",
       "3  1000005   pt 2022-10-12 20:03:09  00:09:51     187174   160221   \n",
       "4  1000010   pt 2022-10-12 14:36:51  00:20:09      64987   263420   \n",
       "\n",
       "  transitRouteId boardingTime           transitLineId     accessFacilityId  \\\n",
       "0      50101_087     13:29:00             PAG_line501  8580501.link:912236   \n",
       "1      07706_001     11:45:39   SBB_R_8500218-8500261  8500207.link:741846   \n",
       "2      02043_024     12:39:00             BOG_line502  8578048.link:160222   \n",
       "3      02038_023     20:08:00             BOG_line502  8578055.link:187174   \n",
       "4      01511_004     14:45:00  SBB_IC_8501120-8506302   8500212.link:64987   \n",
       "\n",
       "      egressFacilityId  \n",
       "0   8580502.link:15050  \n",
       "1  8500206.link:492450  \n",
       "2  8578055.link:187175  \n",
       "3  8578048.link:160221  \n",
       "4  8500218.link:263420  "
      ]
     },
     "execution_count": 5,
     "metadata": {},
     "output_type": "execute_result"
    }
   ],
   "source": [
    "pt_trips_df = pd.read_csv('../data/extracted_data/matsim_population_public_transports.csv.gz')\n",
    "# Ignores all trips that started after midnight\n",
    "pt_trips_df.loc[:, 'dep_time'] = pd.to_datetime(pt_trips_df['dep_time'], errors='coerce')\n",
    "pt_trips_df = pt_trips_df[~(pt_trips_df['dep_time'].isnull())]\n",
    "pt_trips_df.head()"
   ]
  },
  {
   "cell_type": "markdown",
   "id": "6888913d-5d9c-4147-92a5-7e5be5304a8a",
   "metadata": {},
   "source": [
    "The objective is, for every public transports trip (row in the previous dataset), to find in which vehicle the trip took place. The schedule data contains the departure times of every line, as well as the vehicle associated with each departure. \n",
    "All in all, we can for every row:\n",
    "* Get the data for the line (using the ```transitRouteId``` variable);\n",
    "* Fetch the departure offset at the corresponding stop on the line (```accessFacilityId``` variable);\n",
    "* Among all departure times of that line, select the one that is closest to the actual departure time in the simulation (variable ```dep_time``` in the dataframe). The departure time at the stop is the sum of the departure time of the line and the departure offset at that stop.\n",
    "* Retrieve in the route data the vehicle id corresponding to that departure."
   ]
  },
  {
   "cell_type": "code",
   "execution_count": 6,
   "id": "94b7aeeb-f716-44c6-a4f5-aa7c506575dc",
   "metadata": {},
   "outputs": [],
   "source": [
    "def find_vehicle(trip_row):\n",
    "    \"\"\"\n",
    "    Given the data about a public transports trip (a row of the pt_trips_df dataframe), retrieves\n",
    "    the corresponding vehicle id.uteProfile']\n",
    "    \"\"\"\n",
    "    # Fetches the data about the associated pt route\n",
    "    route_id = trip_row['transitRouteId']\n",
    "    if route_id not in routes:\n",
    "        return None\n",
    "    line = routes[route_id]\n",
    "    # Fetches the departure offset at the given stop\n",
    "    # The data was directly extracted from XML so it's a bit complicated to access..\n",
    "    for stop in line['routeProfile']['stop']:\n",
    "        if stop['@refId'] == trip_row['accessFacilityId']:\n",
    "            dep_offset = stop['@departureOffset']\n",
    "    # Browses all departure times and finds the closest\n",
    "    min_time_diff, vehicle = None, None\n",
    "    for departure in line['departures']['departure']:\n",
    "        try:\n",
    "            # Sometimes the scheduled dep time is beyond 24:00 to mean that the trip started after\n",
    "            # midnight. This raises an exception in to_datetime()\n",
    "            schedule_dep_time = pd.to_datetime(departure['@departureTime'])\n",
    "        except:\n",
    "            # We ignore these departure times, as we ignored them in the trips data\n",
    "            continue\n",
    "        time_diff = abs(schedule_dep_time - trip_row['dep_time'])\n",
    "        if min_time_diff is None or time_diff < min_time_diff:\n",
    "            min_time_diff = time_diff\n",
    "            vehicle = departure['@vehicleRefId']\n",
    "    return vehicle"
   ]
  },
  {
   "cell_type": "code",
   "execution_count": 7,
   "id": "039b2949-a168-4bec-acc2-52ab73188260",
   "metadata": {},
   "outputs": [
    {
     "data": {
      "text/plain": [
       "'BUS_PAG_88385'"
      ]
     },
     "execution_count": 7,
     "metadata": {},
     "output_type": "execute_result"
    }
   ],
   "source": [
    "find_vehicle(pt_trips_df.loc[0])"
   ]
  },
  {
   "cell_type": "code",
   "execution_count": 8,
   "id": "4a78ef21-e8cc-472e-a7c3-8182c30a39bd",
   "metadata": {},
   "outputs": [
    {
     "data": {
      "text/html": [
       "<div>\n",
       "<style scoped>\n",
       "    .dataframe tbody tr th:only-of-type {\n",
       "        vertical-align: middle;\n",
       "    }\n",
       "\n",
       "    .dataframe tbody tr th {\n",
       "        vertical-align: top;\n",
       "    }\n",
       "\n",
       "    .dataframe thead th {\n",
       "        text-align: right;\n",
       "    }\n",
       "</style>\n",
       "<table border=\"1\" class=\"dataframe\">\n",
       "  <thead>\n",
       "    <tr style=\"text-align: right;\">\n",
       "      <th></th>\n",
       "      <th>id</th>\n",
       "      <th>mode</th>\n",
       "      <th>dep_time</th>\n",
       "      <th>trav_time</th>\n",
       "      <th>start_link</th>\n",
       "      <th>end_link</th>\n",
       "      <th>transitRouteId</th>\n",
       "      <th>boardingTime</th>\n",
       "      <th>transitLineId</th>\n",
       "      <th>accessFacilityId</th>\n",
       "      <th>egressFacilityId</th>\n",
       "      <th>vehicle_id</th>\n",
       "    </tr>\n",
       "  </thead>\n",
       "  <tbody>\n",
       "    <tr>\n",
       "      <th>0</th>\n",
       "      <td>100000</td>\n",
       "      <td>pt</td>\n",
       "      <td>2022-10-12 13:25:17</td>\n",
       "      <td>00:04:43</td>\n",
       "      <td>912236</td>\n",
       "      <td>15050</td>\n",
       "      <td>50101_087</td>\n",
       "      <td>13:29:00</td>\n",
       "      <td>PAG_line501</td>\n",
       "      <td>8580501.link:912236</td>\n",
       "      <td>8580502.link:15050</td>\n",
       "      <td>BUS_PAG_88385</td>\n",
       "    </tr>\n",
       "    <tr>\n",
       "      <th>1</th>\n",
       "      <td>1000001</td>\n",
       "      <td>pt</td>\n",
       "      <td>2022-10-12 11:45:39</td>\n",
       "      <td>00:01:21</td>\n",
       "      <td>741846</td>\n",
       "      <td>492450</td>\n",
       "      <td>07706_001</td>\n",
       "      <td>11:45:39</td>\n",
       "      <td>SBB_R_8500218-8500261</td>\n",
       "      <td>8500207.link:741846</td>\n",
       "      <td>8500206.link:492450</td>\n",
       "      <td>R_SBB_04143</td>\n",
       "    </tr>\n",
       "    <tr>\n",
       "      <th>2</th>\n",
       "      <td>1000005</td>\n",
       "      <td>pt</td>\n",
       "      <td>2022-10-12 12:26:15</td>\n",
       "      <td>00:17:45</td>\n",
       "      <td>160222</td>\n",
       "      <td>187175</td>\n",
       "      <td>02043_024</td>\n",
       "      <td>12:39:00</td>\n",
       "      <td>BOG_line502</td>\n",
       "      <td>8578048.link:160222</td>\n",
       "      <td>8578055.link:187175</td>\n",
       "      <td>NFB_BOG_65128</td>\n",
       "    </tr>\n",
       "    <tr>\n",
       "      <th>3</th>\n",
       "      <td>1000005</td>\n",
       "      <td>pt</td>\n",
       "      <td>2022-10-12 20:03:09</td>\n",
       "      <td>00:09:51</td>\n",
       "      <td>187174</td>\n",
       "      <td>160221</td>\n",
       "      <td>02038_023</td>\n",
       "      <td>20:08:00</td>\n",
       "      <td>BOG_line502</td>\n",
       "      <td>8578055.link:187174</td>\n",
       "      <td>8578048.link:160221</td>\n",
       "      <td>NFB_BSU_157586</td>\n",
       "    </tr>\n",
       "    <tr>\n",
       "      <th>4</th>\n",
       "      <td>1000010</td>\n",
       "      <td>pt</td>\n",
       "      <td>2022-10-12 14:36:51</td>\n",
       "      <td>00:20:09</td>\n",
       "      <td>64987</td>\n",
       "      <td>263420</td>\n",
       "      <td>01511_004</td>\n",
       "      <td>14:45:00</td>\n",
       "      <td>SBB_IC_8501120-8506302</td>\n",
       "      <td>8500212.link:64987</td>\n",
       "      <td>8500218.link:263420</td>\n",
       "      <td>IC_SBB_02500</td>\n",
       "    </tr>\n",
       "  </tbody>\n",
       "</table>\n",
       "</div>"
      ],
      "text/plain": [
       "        id mode            dep_time trav_time start_link end_link  \\\n",
       "0   100000   pt 2022-10-12 13:25:17  00:04:43     912236    15050   \n",
       "1  1000001   pt 2022-10-12 11:45:39  00:01:21     741846   492450   \n",
       "2  1000005   pt 2022-10-12 12:26:15  00:17:45     160222   187175   \n",
       "3  1000005   pt 2022-10-12 20:03:09  00:09:51     187174   160221   \n",
       "4  1000010   pt 2022-10-12 14:36:51  00:20:09      64987   263420   \n",
       "\n",
       "  transitRouteId boardingTime           transitLineId     accessFacilityId  \\\n",
       "0      50101_087     13:29:00             PAG_line501  8580501.link:912236   \n",
       "1      07706_001     11:45:39   SBB_R_8500218-8500261  8500207.link:741846   \n",
       "2      02043_024     12:39:00             BOG_line502  8578048.link:160222   \n",
       "3      02038_023     20:08:00             BOG_line502  8578055.link:187174   \n",
       "4      01511_004     14:45:00  SBB_IC_8501120-8506302   8500212.link:64987   \n",
       "\n",
       "      egressFacilityId      vehicle_id  \n",
       "0   8580502.link:15050   BUS_PAG_88385  \n",
       "1  8500206.link:492450     R_SBB_04143  \n",
       "2  8578055.link:187175   NFB_BOG_65128  \n",
       "3  8578048.link:160221  NFB_BSU_157586  \n",
       "4  8500218.link:263420    IC_SBB_02500  "
      ]
     },
     "execution_count": 8,
     "metadata": {},
     "output_type": "execute_result"
    }
   ],
   "source": [
    "pt_trips_df['vehicle_id'] = pt_trips_df.apply(find_vehicle, axis=1)\n",
    "pt_trips_df.head()"
   ]
  },
  {
   "cell_type": "markdown",
   "id": "548064be-36d3-434a-9306-454674e36d28",
   "metadata": {},
   "source": [
    "Some vehicles could not be found because the route id specified in the dataset cannot be found in the schedule. Let's count those lines:"
   ]
  },
  {
   "cell_type": "code",
   "execution_count": 13,
   "id": "04beefa0-7426-468f-bfd9-6c02b6604d4f",
   "metadata": {},
   "outputs": [
    {
     "name": "stdout",
     "output_type": "stream",
     "text": [
      "Not found: 403019 out of 5444510 (0.07%)\n"
     ]
    }
   ],
   "source": [
    "not_found_count = pt_trips_df['vehicle_id'].isna().sum()\n",
    "print(f\"Not found: {not_found_count} out of {pt_trips_df.shape[0]} ({(not_found_count / pt_trips_df.shape[0]):1.2f}%)\")"
   ]
  },
  {
   "cell_type": "markdown",
   "id": "3140f75d-7cf7-441b-97dc-8efdf0664abd",
   "metadata": {},
   "source": [
    "Let's save the results:"
   ]
  },
  {
   "cell_type": "code",
   "execution_count": 14,
   "id": "8605df6f-0b1d-450f-9f19-8137874a25fb",
   "metadata": {},
   "outputs": [],
   "source": [
    "pt_trips_df.to_csv('../data/extracted_data/pt_with_vehicles.csv.gz', index=False)"
   ]
  },
  {
   "cell_type": "code",
   "execution_count": 12,
   "id": "2957a75d-187e-47c0-89ff-c4a2de4b6eb9",
   "metadata": {},
   "outputs": [
    {
     "name": "stdout",
     "output_type": "stream",
     "text": [
      "Processed 0 chunks - 0 rows\n",
      "<class 'pandas.core.frame.DataFrame'>\n",
      "Int64Index: 49773 entries, 10 to 1020083\n",
      "Data columns (total 12 columns):\n",
      " #   Column            Non-Null Count  Dtype         \n",
      "---  ------            --------------  -----         \n",
      " 0   mode              49773 non-null  object        \n",
      " 1   dep_time          49773 non-null  object        \n",
      " 2   trav_time         49773 non-null  object        \n",
      " 3   start_link        49773 non-null  object        \n",
      " 4   end_link          49773 non-null  object        \n",
      " 5   transitRouteId    15197 non-null  object        \n",
      " 6   boardingTime      15197 non-null  object        \n",
      " 7   transitLineId     15197 non-null  object        \n",
      " 8   accessFacilityId  15197 non-null  object        \n",
      " 9   egressFacilityId  15197 non-null  object        \n",
      " 10  start_time        49773 non-null  datetime64[ns]\n",
      " 11  end_time          49773 non-null  datetime64[ns]\n",
      "dtypes: datetime64[ns](2), object(10)\n",
      "memory usage: 4.9+ MB\n",
      "None\n"
     ]
    },
    {
     "name": "stderr",
     "output_type": "stream",
     "text": [
      "/tmp/ipykernel_13790/1601054444.py:11: SettingWithCopyWarning: \n",
      "A value is trying to be set on a copy of a slice from a DataFrame.\n",
      "Try using .loc[row_indexer,col_indexer] = value instead\n",
      "\n",
      "See the caveats in the documentation: https://pandas.pydata.org/pandas-docs/stable/user_guide/indexing.html#returning-a-view-versus-a-copy\n",
      "  chunk.loc[:, 'start_time'] = pd.to_datetime(chunk['dep_time'], errors='coerce')\n"
     ]
    }
   ],
   "source": [
    "CHUNKSIZE = 100000\n",
    "with pd.read_csv(_POPULATION_TRANSPORTS_PATH_, index_col=0, chunksize=CHUNKSIZE) as full_df:\n",
    "    # Modes of transportation that will be discarded\n",
    "    ignored_modes = set(['walk', 'bike'])\n",
    "    for k, chunk in enumerate(full_df):\n",
    "        print(f\"Processed {k} chunks - {k * CHUNKSIZE} rows\")\n",
    "        # Discard ignored transportation modes\n",
    "        chunk = chunk[~(chunk['mode'].isin(ignored_modes))]\n",
    "        # Converts the dep_time column to the datetime data type\n",
    "        # Also sets starting time beyond midnight to NaT and then removes them\n",
    "        chunk['start_time'] = pd.to_datetime(chunk['dep_time'], errors='coerce')\n",
    "        chunk = chunk[~(chunk['start_time'].isnull())]\n",
    "        # Converts the trav_time col to the timedelta data type and computes the activity's end time\n",
    "        chunk['end_time'] = chunk['start_time'] + pd.to_timedelta(chunk['trav_time'])\n",
    "        "
   ]
  }
 ],
 "metadata": {
  "kernelspec": {
   "display_name": "Python 3 (ipykernel)",
   "language": "python",
   "name": "python3"
  },
  "language_info": {
   "codemirror_mode": {
    "name": "ipython",
    "version": 3
   },
   "file_extension": ".py",
   "mimetype": "text/x-python",
   "name": "python",
   "nbconvert_exporter": "python",
   "pygments_lexer": "ipython3",
   "version": "3.9.13"
  }
 },
 "nbformat": 4,
 "nbformat_minor": 5
}
