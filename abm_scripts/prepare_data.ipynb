{
 "cells": [
  {
   "cell_type": "markdown",
   "id": "6ea53b6d-3896-46f1-8f48-960929fc69a8",
   "metadata": {},
   "source": [
    "# Imports and paths"
   ]
  },
  {
   "cell_type": "code",
   "execution_count": 1,
   "id": "f808bdc0-7828-476a-8397-9afe1f33bc20",
   "metadata": {},
   "outputs": [],
   "source": [
    "import pandas as pd\n",
    "import numpy as np\n",
    "import matplotlib.pyplot as plt\n",
    "import seaborn as sns\n",
    "import numpy as np\n",
    "import json\n",
    "import gzip\n",
    "import os\n",
    "from collections import defaultdict\n",
    "from tqdm import tqdm\n",
    "from numpy.linalg import norm\n",
    "from tqdm.notebook import tqdm\n",
    "from scipy import spatial\n",
    "sns.set_palette('colorblind')\n",
    "sns.set_theme()\n",
    "tqdm.pandas()\n",
    "# RNG\n",
    "rng = np.random.default_rng(seed=42)"
   ]
  },
  {
   "cell_type": "code",
   "execution_count": 2,
   "id": "61ffa016-60f7-4d43-bdf4-3dda6083f08c",
   "metadata": {},
   "outputs": [],
   "source": [
    "# File containing the activities as extracted from MATSIM\n",
    "_EXTRACTED_ACTIVITIES_PATH_ = \"../data/abm/vaud/extracted/vaud_activities.csv.gz\"\n",
    "# Files to where the agents' visits and facilities' visitors should be saved\n",
    "_AGENTS_VISITS_DEST_FILE_ = \"../data/abm/vaud/prepared/vaud_agents_visits.json.gz\"\n",
    "_FACILITIES_VISITORS_DEST_FILE_ = \"../data/abm/vaud/prepared/vaud_facilities_visitors.json.gz\"\n",
    "# Files to where the ID to index translations should be saved\n",
    "_AGENTS_ID_TRANSLATIONS_FILE_ = \"../data/abm/vaud/prepared/vaud_agents_id_translations.csv.gz\"\n",
    "_FACILITIES_ID_TRANSLATIONS_FILE_ = \"../data/abm/vaud/prepared/vaud_facilities_id_translations.csv.gz\"\n",
    "# Population attributes dataset\n",
    "_POPULATION_ATTRIBUTES_PATH_ = \"../data/abm/vaud/extracted/vaud_population.csv.gz\"\n",
    "# Directory into which the activities per period files are saved\n",
    "_PERIOD_ACTIVITIES_REP_ = \"../data/abm/vaud/prepared/period_activities/\""
   ]
  },
  {
   "cell_type": "markdown",
   "id": "e0cc684a-5f84-4400-9c0d-9ff25d812b76",
   "metadata": {},
   "source": [
    "# Preparing contacts data\n",
    "In order to run the Agent-Based Model, we'll need to be able to access the data in two ways:\n",
    "* Given an agent $i$, fetch all activities performed by $i$ during the simulation;\n",
    "* Given a facility $f$, fetch all individuals who visited $f$ during the simulation.\n",
    "\n",
    "The first task will be a translation: as extracted from MATSIM, the agents' IDs and facility names are unordered (facility names aren't even all numerical, such as \"home4076\"). However it will be much easier to work with a total index (from 1 to the number of agents or facilities). Hence we'll need to perform that translation while treating the data.  \n",
    "Once this is done, we can create two lists:\n",
    "* For a given agent $i$, $A(i)$ will yield the the list of facilities visited by $i$;\n",
    "* For a given facility $f$, $F(f)$ will yield the list of agents who visited $f$.\n",
    "\n"
   ]
  },
  {
   "cell_type": "markdown",
   "id": "fe04a037-0330-4fab-8ddb-feee263cbfc0",
   "metadata": {},
   "source": [
    "## Loading the activities into memory\n",
    "Let's first load the activities CSV into memory:"
   ]
  },
  {
   "cell_type": "code",
   "execution_count": 3,
   "id": "ec014c4e-b190-4e29-ab08-669908a438fb",
   "metadata": {},
   "outputs": [
    {
     "name": "stdout",
     "output_type": "stream",
     "text": [
      "<class 'pandas.core.frame.DataFrame'>\n",
      "Int64Index: 4455076 entries, 423464 to 36710599\n",
      "Data columns (total 8 columns):\n",
      " #   Column      Dtype  \n",
      "---  ------      -----  \n",
      " 0   id          int64  \n",
      " 1   type        object \n",
      " 2   facility    object \n",
      " 3   link        object \n",
      " 4   x           float64\n",
      " 5   y           float64\n",
      " 6   start_time  object \n",
      " 7   end_time    object \n",
      "dtypes: float64(2), int64(1), object(5)\n",
      "memory usage: 305.9+ MB\n",
      "None\n"
     ]
    },
    {
     "data": {
      "text/html": [
       "<div>\n",
       "<style scoped>\n",
       "    .dataframe tbody tr th:only-of-type {\n",
       "        vertical-align: middle;\n",
       "    }\n",
       "\n",
       "    .dataframe tbody tr th {\n",
       "        vertical-align: top;\n",
       "    }\n",
       "\n",
       "    .dataframe thead th {\n",
       "        text-align: right;\n",
       "    }\n",
       "</style>\n",
       "<table border=\"1\" class=\"dataframe\">\n",
       "  <thead>\n",
       "    <tr style=\"text-align: right;\">\n",
       "      <th></th>\n",
       "      <th>id</th>\n",
       "      <th>type</th>\n",
       "      <th>facility</th>\n",
       "      <th>link</th>\n",
       "      <th>x</th>\n",
       "      <th>y</th>\n",
       "      <th>start_time</th>\n",
       "      <th>end_time</th>\n",
       "    </tr>\n",
       "  </thead>\n",
       "  <tbody>\n",
       "    <tr>\n",
       "      <th>423464</th>\n",
       "      <td>1069770</td>\n",
       "      <td>home</td>\n",
       "      <td>home480932</td>\n",
       "      <td>399007</td>\n",
       "      <td>2569239.0</td>\n",
       "      <td>1190194.0</td>\n",
       "      <td>NaN</td>\n",
       "      <td>09:23:32</td>\n",
       "    </tr>\n",
       "    <tr>\n",
       "      <th>423465</th>\n",
       "      <td>1069770</td>\n",
       "      <td>shop</td>\n",
       "      <td>168569</td>\n",
       "      <td>244909</td>\n",
       "      <td>2571696.0</td>\n",
       "      <td>1189601.0</td>\n",
       "      <td>09:25:32</td>\n",
       "      <td>09:33:32</td>\n",
       "    </tr>\n",
       "    <tr>\n",
       "      <th>423466</th>\n",
       "      <td>1069770</td>\n",
       "      <td>home</td>\n",
       "      <td>home480932</td>\n",
       "      <td>399007</td>\n",
       "      <td>2569239.0</td>\n",
       "      <td>1190194.0</td>\n",
       "      <td>09:35:32</td>\n",
       "      <td>09:53:32</td>\n",
       "    </tr>\n",
       "    <tr>\n",
       "      <th>423467</th>\n",
       "      <td>1069770</td>\n",
       "      <td>leisure</td>\n",
       "      <td>399230</td>\n",
       "      <td>399013</td>\n",
       "      <td>2569430.0</td>\n",
       "      <td>1189314.0</td>\n",
       "      <td>09:56:32</td>\n",
       "      <td>10:23:32</td>\n",
       "    </tr>\n",
       "    <tr>\n",
       "      <th>423468</th>\n",
       "      <td>1069770</td>\n",
       "      <td>home</td>\n",
       "      <td>home480932</td>\n",
       "      <td>399007</td>\n",
       "      <td>2569239.0</td>\n",
       "      <td>1190194.0</td>\n",
       "      <td>10:26:32</td>\n",
       "      <td>NaN</td>\n",
       "    </tr>\n",
       "  </tbody>\n",
       "</table>\n",
       "</div>"
      ],
      "text/plain": [
       "             id     type    facility    link          x          y start_time  \\\n",
       "423464  1069770     home  home480932  399007  2569239.0  1190194.0        NaN   \n",
       "423465  1069770     shop      168569  244909  2571696.0  1189601.0   09:25:32   \n",
       "423466  1069770     home  home480932  399007  2569239.0  1190194.0   09:35:32   \n",
       "423467  1069770  leisure      399230  399013  2569430.0  1189314.0   09:56:32   \n",
       "423468  1069770     home  home480932  399007  2569239.0  1190194.0   10:26:32   \n",
       "\n",
       "        end_time  \n",
       "423464  09:23:32  \n",
       "423465  09:33:32  \n",
       "423466  09:53:32  \n",
       "423467  10:23:32  \n",
       "423468       NaN  "
      ]
     },
     "execution_count": 3,
     "metadata": {},
     "output_type": "execute_result"
    }
   ],
   "source": [
    "activities = pd.read_csv(_EXTRACTED_ACTIVITIES_PATH_, index_col=0)\n",
    "print(activities.info())\n",
    "activities.head()"
   ]
  },
  {
   "cell_type": "markdown",
   "id": "a6c9025f-f6f9-42e1-87e2-7a2958076069",
   "metadata": {},
   "source": [
    "## Looking at public transport stations\n",
    "It seems that public transport stations do not have an associated facility name:"
   ]
  },
  {
   "cell_type": "code",
   "execution_count": 4,
   "id": "b4082027-2648-4aad-bdd1-2d7765cdb600",
   "metadata": {},
   "outputs": [
    {
     "data": {
      "text/html": [
       "<div>\n",
       "<style scoped>\n",
       "    .dataframe tbody tr th:only-of-type {\n",
       "        vertical-align: middle;\n",
       "    }\n",
       "\n",
       "    .dataframe tbody tr th {\n",
       "        vertical-align: top;\n",
       "    }\n",
       "\n",
       "    .dataframe thead th {\n",
       "        text-align: right;\n",
       "    }\n",
       "</style>\n",
       "<table border=\"1\" class=\"dataframe\">\n",
       "  <thead>\n",
       "    <tr style=\"text-align: right;\">\n",
       "      <th></th>\n",
       "      <th>id</th>\n",
       "      <th>type</th>\n",
       "      <th>facility</th>\n",
       "      <th>link</th>\n",
       "      <th>x</th>\n",
       "      <th>y</th>\n",
       "      <th>start_time</th>\n",
       "      <th>end_time</th>\n",
       "    </tr>\n",
       "  </thead>\n",
       "  <tbody>\n",
       "    <tr>\n",
       "      <th>587570</th>\n",
       "      <td>1098688</td>\n",
       "      <td>pt interaction</td>\n",
       "      <td>NaN</td>\n",
       "      <td>692184</td>\n",
       "      <td>2.551212e+06</td>\n",
       "      <td>1.166853e+06</td>\n",
       "      <td>NaN</td>\n",
       "      <td>NaN</td>\n",
       "    </tr>\n",
       "    <tr>\n",
       "      <th>587571</th>\n",
       "      <td>1098688</td>\n",
       "      <td>pt interaction</td>\n",
       "      <td>NaN</td>\n",
       "      <td>869871</td>\n",
       "      <td>2.551020e+06</td>\n",
       "      <td>1.168574e+06</td>\n",
       "      <td>NaN</td>\n",
       "      <td>NaN</td>\n",
       "    </tr>\n",
       "    <tr>\n",
       "      <th>587590</th>\n",
       "      <td>1098691</td>\n",
       "      <td>pt interaction</td>\n",
       "      <td>NaN</td>\n",
       "      <td>613162</td>\n",
       "      <td>2.553918e+06</td>\n",
       "      <td>1.154785e+06</td>\n",
       "      <td>NaN</td>\n",
       "      <td>NaN</td>\n",
       "    </tr>\n",
       "    <tr>\n",
       "      <th>587591</th>\n",
       "      <td>1098691</td>\n",
       "      <td>pt interaction</td>\n",
       "      <td>NaN</td>\n",
       "      <td>120829</td>\n",
       "      <td>2.537875e+06</td>\n",
       "      <td>1.152042e+06</td>\n",
       "      <td>NaN</td>\n",
       "      <td>NaN</td>\n",
       "    </tr>\n",
       "    <tr>\n",
       "      <th>587592</th>\n",
       "      <td>1098691</td>\n",
       "      <td>pt interaction</td>\n",
       "      <td>NaN</td>\n",
       "      <td>729548</td>\n",
       "      <td>2.537875e+06</td>\n",
       "      <td>1.152042e+06</td>\n",
       "      <td>NaN</td>\n",
       "      <td>NaN</td>\n",
       "    </tr>\n",
       "  </tbody>\n",
       "</table>\n",
       "</div>"
      ],
      "text/plain": [
       "             id            type facility    link             x             y  \\\n",
       "587570  1098688  pt interaction      NaN  692184  2.551212e+06  1.166853e+06   \n",
       "587571  1098688  pt interaction      NaN  869871  2.551020e+06  1.168574e+06   \n",
       "587590  1098691  pt interaction      NaN  613162  2.553918e+06  1.154785e+06   \n",
       "587591  1098691  pt interaction      NaN  120829  2.537875e+06  1.152042e+06   \n",
       "587592  1098691  pt interaction      NaN  729548  2.537875e+06  1.152042e+06   \n",
       "\n",
       "       start_time end_time  \n",
       "587570        NaN      NaN  \n",
       "587571        NaN      NaN  \n",
       "587590        NaN      NaN  \n",
       "587591        NaN      NaN  \n",
       "587592        NaN      NaN  "
      ]
     },
     "execution_count": 4,
     "metadata": {},
     "output_type": "execute_result"
    }
   ],
   "source": [
    "null_facility = activities[activities['facility'].isna()]\n",
    "null_facility.head()"
   ]
  },
  {
   "cell_type": "code",
   "execution_count": 5,
   "id": "934ddbf3-c243-4d6a-bd03-1512c439cb54",
   "metadata": {},
   "outputs": [
    {
     "data": {
      "text/plain": [
       "array(['pt interaction'], dtype=object)"
      ]
     },
     "execution_count": 5,
     "metadata": {},
     "output_type": "execute_result"
    }
   ],
   "source": [
    "null_facility['type'].unique()"
   ]
  },
  {
   "cell_type": "markdown",
   "id": "9024c62d-3dbb-4eb8-b580-32e966826649",
   "metadata": {},
   "source": [
    "Let's count how many unique stations there are, based on location:"
   ]
  },
  {
   "cell_type": "code",
   "execution_count": 6,
   "id": "c42e86cd-fc0e-44cf-b1ee-7b28e2dbbc18",
   "metadata": {},
   "outputs": [
    {
     "data": {
      "text/plain": [
       "(6953, 8)"
      ]
     },
     "execution_count": 6,
     "metadata": {},
     "output_type": "execute_result"
    }
   ],
   "source": [
    "null_facility.drop_duplicates(subset=['x', 'y',]).shape"
   ]
  },
  {
   "cell_type": "markdown",
   "id": "732e1d3d-6623-46d5-9582-ec365a9e0012",
   "metadata": {},
   "source": [
    "Since there's far less unique stations, based on location, than entries in the null facilities dataframe, we can assign a name\n",
    "to each station:"
   ]
  },
  {
   "cell_type": "code",
   "execution_count": 7,
   "id": "583ddd1e-52eb-42fa-9cf9-c4fcd4e33f21",
   "metadata": {},
   "outputs": [],
   "source": [
    "def assign_station_name(row):\n",
    "    \"\"\"\n",
    "    Based on a row of the null facility dataframe, creates a name\n",
    "    for the transport station.\n",
    "    \"\"\"\n",
    "    return 'station' + str(row['x']) + str(row['y'])"
   ]
  },
  {
   "cell_type": "code",
   "execution_count": 8,
   "id": "a76e9bae-7d85-42a3-8de7-8e321af98587",
   "metadata": {},
   "outputs": [
    {
     "data": {
      "application/vnd.jupyter.widget-view+json": {
       "model_id": "5b689514bc1548f6984f8c7a9d392806",
       "version_major": 2,
       "version_minor": 0
      },
      "text/plain": [
       "  0%|          | 0/1046370 [00:00<?, ?it/s]"
      ]
     },
     "metadata": {},
     "output_type": "display_data"
    }
   ],
   "source": [
    "activities.loc[:, 'facility'] = activities['facility'].fillna(null_facility.progress_apply(assign_station_name, axis=1))"
   ]
  },
  {
   "cell_type": "markdown",
   "id": "c8a19ab3-7950-45a0-a209-fc99632a19da",
   "metadata": {},
   "source": [
    "Let's check that there are no longer any missing facilities:"
   ]
  },
  {
   "cell_type": "code",
   "execution_count": 9,
   "id": "bb961da0-ba12-4a51-b47f-13c2f1c62475",
   "metadata": {},
   "outputs": [
    {
     "data": {
      "text/html": [
       "<div>\n",
       "<style scoped>\n",
       "    .dataframe tbody tr th:only-of-type {\n",
       "        vertical-align: middle;\n",
       "    }\n",
       "\n",
       "    .dataframe tbody tr th {\n",
       "        vertical-align: top;\n",
       "    }\n",
       "\n",
       "    .dataframe thead th {\n",
       "        text-align: right;\n",
       "    }\n",
       "</style>\n",
       "<table border=\"1\" class=\"dataframe\">\n",
       "  <thead>\n",
       "    <tr style=\"text-align: right;\">\n",
       "      <th></th>\n",
       "      <th>id</th>\n",
       "      <th>type</th>\n",
       "      <th>facility</th>\n",
       "      <th>link</th>\n",
       "      <th>x</th>\n",
       "      <th>y</th>\n",
       "      <th>start_time</th>\n",
       "      <th>end_time</th>\n",
       "    </tr>\n",
       "  </thead>\n",
       "  <tbody>\n",
       "  </tbody>\n",
       "</table>\n",
       "</div>"
      ],
      "text/plain": [
       "Empty DataFrame\n",
       "Columns: [id, type, facility, link, x, y, start_time, end_time]\n",
       "Index: []"
      ]
     },
     "execution_count": 9,
     "metadata": {},
     "output_type": "execute_result"
    }
   ],
   "source": [
    "activities[activities['facility'].isna()]"
   ]
  },
  {
   "cell_type": "markdown",
   "id": "01f738b3-471f-4f6c-9727-f2db8d69b553",
   "metadata": {},
   "source": [
    "## Building the lists"
   ]
  },
  {
   "cell_type": "markdown",
   "id": "98e49ad8-0c66-422a-85f6-845e30513923",
   "metadata": {},
   "source": [
    "We'll now build the aforementioned lists:"
   ]
  },
  {
   "cell_type": "code",
   "execution_count": 10,
   "id": "60a2b6ba-1e64-45ac-a2a2-43966dcdb983",
   "metadata": {},
   "outputs": [],
   "source": [
    "# An \"index\" is the integer associated with an element (as opposed to the original\n",
    "# agent ID or facility name).\n",
    "# list agent index --> facility indexes\n",
    "agents_visits = []\n",
    "# list facility index --> agent indexes\n",
    "facilities_visitors = []\n",
    "# Hashmap facility name --> facility index\n",
    "# This will be used to translate the facility names\n",
    "hashmap_fi = dict()\n",
    "# This will count the number of facilities that have already\n",
    "# been translated, and thus will be the translation for the next\n",
    "# facility.\n",
    "# We use a list of 1 element instead of an integer, because we need it\n",
    "# to be a mutable type in order to use pandas.apply thereafter (that's some\n",
    "# dark python properties, ngl).\n",
    "facility_counter = [0]\n",
    "# Same for the agents\n",
    "hashmap_ai = dict()\n",
    "agents_counter = [0]"
   ]
  },
  {
   "cell_type": "markdown",
   "id": "b9e3181b-2d75-4af5-9cd0-9151d0cfbbbf",
   "metadata": {},
   "source": [
    "We can actually perform the translation while filling the lists, thus only browsing the activities dataset once:"
   ]
  },
  {
   "cell_type": "code",
   "execution_count": 11,
   "id": "7d292d36-9c2e-48f7-ad7b-21a05e0bba70",
   "metadata": {},
   "outputs": [],
   "source": [
    "def load_into_hashmaps(row):\n",
    "    \"\"\"\n",
    "    Loads a row of the activities DataFrame into the hashmaps.\n",
    "    \"\"\"\n",
    "    agent_id, facility_name = row['id'], row['facility']\n",
    "    # If the facility name doesn't have an integer index yet,\n",
    "    # create one\n",
    "    if facility_name not in hashmap_fi:\n",
    "        hashmap_fi[facility_name] = facility_counter[0]\n",
    "        # facilities_visitors[facility_counter] is the list of visitors of the current\n",
    "        # facility. For now it will be an empty list, waiting to be filled.\n",
    "        facilities_visitors.append([])\n",
    "        facility_index = facility_counter[0]\n",
    "        facility_counter[0] += 1\n",
    "    else:\n",
    "        facility_index = hashmap_fi[facility_name]\n",
    "    # If the agent ID doesn't have an integer index yet,\n",
    "    # create one\n",
    "    if agent_id not in hashmap_ai:\n",
    "        hashmap_ai[agent_id] = agents_counter[0]\n",
    "        agents_visits.append([])\n",
    "        agent_index = agents_counter[0]\n",
    "        agents_counter[0] += 1\n",
    "    else:\n",
    "        agent_index = hashmap_ai[agent_id]\n",
    "    # Add the facility to the agent's visits\n",
    "    agents_visits[agent_index].append(facility_index)\n",
    "    facilities_visitors[facility_index].append(agent_index)"
   ]
  },
  {
   "cell_type": "code",
   "execution_count": 12,
   "id": "a795ded5-897f-475e-b6f7-d4eb2fd09f8a",
   "metadata": {},
   "outputs": [
    {
     "data": {
      "application/vnd.jupyter.widget-view+json": {
       "model_id": "ad81785df18843be9a42769f82cc89cb",
       "version_major": 2,
       "version_minor": 0
      },
      "text/plain": [
       "  0%|          | 0/4455076 [00:00<?, ?it/s]"
      ]
     },
     "metadata": {},
     "output_type": "display_data"
    },
    {
     "data": {
      "text/plain": [
       "423464      None\n",
       "423465      None\n",
       "423466      None\n",
       "423467      None\n",
       "423468      None\n",
       "            ... \n",
       "36710595    None\n",
       "36710596    None\n",
       "36710597    None\n",
       "36710598    None\n",
       "36710599    None\n",
       "Length: 4455076, dtype: object"
      ]
     },
     "execution_count": 12,
     "metadata": {},
     "output_type": "execute_result"
    }
   ],
   "source": [
    "activities.progress_apply(load_into_hashmaps, axis=1)"
   ]
  },
  {
   "cell_type": "markdown",
   "id": "12d9e239-2e0a-4241-b09e-ad77990324ed",
   "metadata": {},
   "source": [
    "Let's check the results:"
   ]
  },
  {
   "cell_type": "code",
   "execution_count": 13,
   "id": "3b68037e-5c6c-4c3c-82ca-32cd829a494c",
   "metadata": {},
   "outputs": [
    {
     "name": "stdout",
     "output_type": "stream",
     "text": [
      "Number of agents:  825576\n",
      "Number of facil.:  452141\n"
     ]
    }
   ],
   "source": [
    "print(\"Number of agents: \", len(agents_visits))\n",
    "print(\"Number of facil.: \", len(facilities_visitors))"
   ]
  },
  {
   "cell_type": "markdown",
   "id": "7d9d8c3a-9089-4394-8919-8a304e0bdd12",
   "metadata": {},
   "source": [
    "## Saving the ID -> index translation hashmaps"
   ]
  },
  {
   "cell_type": "code",
   "execution_count": 14,
   "id": "bb2d07fe-7f78-4146-85c2-9393f5ea9803",
   "metadata": {},
   "outputs": [],
   "source": [
    "agents_id_translations = pd.DataFrame.from_dict(hashmap_ai, orient=\"index\", columns=['agent_index'])\n",
    "agents_id_translations.to_csv(_AGENTS_ID_TRANSLATIONS_FILE_)"
   ]
  },
  {
   "cell_type": "code",
   "execution_count": 15,
   "id": "fdf41142-da5c-4f10-9dd2-91ebb6df29b7",
   "metadata": {},
   "outputs": [],
   "source": [
    "facilities_id_translations = pd.DataFrame.from_dict(hashmap_fi, orient=\"index\", columns=['facility_index'])\n",
    "facilities_id_translations.to_csv(_FACILITIES_ID_TRANSLATIONS_FILE_)"
   ]
  },
  {
   "cell_type": "markdown",
   "id": "d26a108b-8093-4636-8e2c-3d9d473c8fa7",
   "metadata": {},
   "source": [
    "## Saving the lists"
   ]
  },
  {
   "cell_type": "code",
   "execution_count": 16,
   "id": "99a6828b-1459-41f6-92e0-d17620d83a7e",
   "metadata": {},
   "outputs": [],
   "source": [
    "# The following writes the list into the .json.gz format\n",
    "# taken from https://stackoverflow.com/questions/39450065/python-3-read-write-compressed-json-objects-from-to-gzip-file\n",
    "with gzip.open(_AGENTS_VISITS_DEST_FILE_, \"w\") as dest_file:\n",
    "    json_str = json.dumps(agents_visits)\n",
    "    json_bytes = json_str.encode('utf-8')\n",
    "    dest_file.write(json_bytes)"
   ]
  },
  {
   "cell_type": "code",
   "execution_count": 17,
   "id": "f033f969-802e-48db-b90c-e2555da66cc9",
   "metadata": {},
   "outputs": [],
   "source": [
    "with gzip.open(_FACILITIES_VISITORS_DEST_FILE_, \"w\") as dest_file:\n",
    "    json_str = json.dumps(facilities_visitors)\n",
    "    json_bytes = json_str.encode('utf-8')\n",
    "    dest_file.write(json_bytes)"
   ]
  },
  {
   "cell_type": "markdown",
   "id": "b2444450-a56e-42bf-b0cc-22052d0e3632",
   "metadata": {},
   "source": [
    "# Translating the agents' IDs and facility names into indexes in datasets\n",
    "Now that we've have associations ```facility name``` --> ```facility_index``` and ```agent ID``` --> ```agent index```, we can translate the agents'IDs and facility names in the datasets.  \n",
    "If you haven't run the previous sections, you can load the translation maps in the following cells:"
   ]
  },
  {
   "cell_type": "code",
   "execution_count": 18,
   "id": "fb2bcccf-dbf5-4819-801b-7d893dc52bbb",
   "metadata": {},
   "outputs": [
    {
     "data": {
      "text/html": [
       "<div>\n",
       "<style scoped>\n",
       "    .dataframe tbody tr th:only-of-type {\n",
       "        vertical-align: middle;\n",
       "    }\n",
       "\n",
       "    .dataframe tbody tr th {\n",
       "        vertical-align: top;\n",
       "    }\n",
       "\n",
       "    .dataframe thead th {\n",
       "        text-align: right;\n",
       "    }\n",
       "</style>\n",
       "<table border=\"1\" class=\"dataframe\">\n",
       "  <thead>\n",
       "    <tr style=\"text-align: right;\">\n",
       "      <th></th>\n",
       "      <th>agent_index</th>\n",
       "    </tr>\n",
       "  </thead>\n",
       "  <tbody>\n",
       "    <tr>\n",
       "      <th>1069770</th>\n",
       "      <td>0</td>\n",
       "    </tr>\n",
       "    <tr>\n",
       "      <th>1071953</th>\n",
       "      <td>1</td>\n",
       "    </tr>\n",
       "    <tr>\n",
       "      <th>1097112</th>\n",
       "      <td>2</td>\n",
       "    </tr>\n",
       "    <tr>\n",
       "      <th>1098681</th>\n",
       "      <td>3</td>\n",
       "    </tr>\n",
       "    <tr>\n",
       "      <th>1098682</th>\n",
       "      <td>4</td>\n",
       "    </tr>\n",
       "  </tbody>\n",
       "</table>\n",
       "</div>"
      ],
      "text/plain": [
       "         agent_index\n",
       "1069770            0\n",
       "1071953            1\n",
       "1097112            2\n",
       "1098681            3\n",
       "1098682            4"
      ]
     },
     "execution_count": 18,
     "metadata": {},
     "output_type": "execute_result"
    }
   ],
   "source": [
    "agents_translations = pd.read_csv(_AGENTS_ID_TRANSLATIONS_FILE_, index_col=0)\n",
    "facilities_translations = pd.read_csv(_FACILITIES_ID_TRANSLATIONS_FILE_, index_col=0)\n",
    "agents_translations.head()"
   ]
  },
  {
   "cell_type": "markdown",
   "id": "3abe215d-8fa5-4708-baca-49d755370d40",
   "metadata": {},
   "source": [
    "## Population attributes dataset"
   ]
  },
  {
   "cell_type": "code",
   "execution_count": 19,
   "id": "c98ca435-63f7-4331-9172-163d58f693be",
   "metadata": {},
   "outputs": [
    {
     "data": {
      "text/html": [
       "<div>\n",
       "<style scoped>\n",
       "    .dataframe tbody tr th:only-of-type {\n",
       "        vertical-align: middle;\n",
       "    }\n",
       "\n",
       "    .dataframe tbody tr th {\n",
       "        vertical-align: top;\n",
       "    }\n",
       "\n",
       "    .dataframe thead th {\n",
       "        text-align: right;\n",
       "    }\n",
       "</style>\n",
       "<table border=\"1\" class=\"dataframe\">\n",
       "  <thead>\n",
       "    <tr style=\"text-align: right;\">\n",
       "      <th></th>\n",
       "      <th>age</th>\n",
       "      <th>bikeAvailability</th>\n",
       "      <th>carAvail</th>\n",
       "      <th>employed</th>\n",
       "      <th>hasLicense</th>\n",
       "      <th>home_x</th>\n",
       "      <th>home_y</th>\n",
       "      <th>householdIncome</th>\n",
       "      <th>isCarPassenger</th>\n",
       "      <th>municipalityType</th>\n",
       "      <th>...</th>\n",
       "      <th>sex</th>\n",
       "      <th>spRegion</th>\n",
       "      <th>postcode</th>\n",
       "      <th>canton</th>\n",
       "      <th>local</th>\n",
       "      <th>municipality</th>\n",
       "      <th>muni_index</th>\n",
       "      <th>wgs84_e</th>\n",
       "      <th>wgs84_n</th>\n",
       "      <th>agent_index</th>\n",
       "    </tr>\n",
       "    <tr>\n",
       "      <th>id</th>\n",
       "      <th></th>\n",
       "      <th></th>\n",
       "      <th></th>\n",
       "      <th></th>\n",
       "      <th></th>\n",
       "      <th></th>\n",
       "      <th></th>\n",
       "      <th></th>\n",
       "      <th></th>\n",
       "      <th></th>\n",
       "      <th></th>\n",
       "      <th></th>\n",
       "      <th></th>\n",
       "      <th></th>\n",
       "      <th></th>\n",
       "      <th></th>\n",
       "      <th></th>\n",
       "      <th></th>\n",
       "      <th></th>\n",
       "      <th></th>\n",
       "      <th></th>\n",
       "    </tr>\n",
       "  </thead>\n",
       "  <tbody>\n",
       "    <tr>\n",
       "      <th>1069770</th>\n",
       "      <td>85</td>\n",
       "      <td>FOR_NONE</td>\n",
       "      <td>never</td>\n",
       "      <td>False</td>\n",
       "      <td>no</td>\n",
       "      <td>2569239.0</td>\n",
       "      <td>1190194.0</td>\n",
       "      <td>NaN</td>\n",
       "      <td>False</td>\n",
       "      <td>NaN</td>\n",
       "      <td>...</td>\n",
       "      <td>f</td>\n",
       "      <td>3</td>\n",
       "      <td>1580</td>\n",
       "      <td>VD</td>\n",
       "      <td>Avenches</td>\n",
       "      <td>Avenches</td>\n",
       "      <td>5451</td>\n",
       "      <td>7.040607</td>\n",
       "      <td>46.880248</td>\n",
       "      <td>NaN</td>\n",
       "    </tr>\n",
       "    <tr>\n",
       "      <th>1103868</th>\n",
       "      <td>85</td>\n",
       "      <td>FOR_NONE</td>\n",
       "      <td>never</td>\n",
       "      <td>False</td>\n",
       "      <td>no</td>\n",
       "      <td>2569239.0</td>\n",
       "      <td>1190194.0</td>\n",
       "      <td>NaN</td>\n",
       "      <td>False</td>\n",
       "      <td>NaN</td>\n",
       "      <td>...</td>\n",
       "      <td>f</td>\n",
       "      <td>3</td>\n",
       "      <td>1580</td>\n",
       "      <td>VD</td>\n",
       "      <td>Avenches</td>\n",
       "      <td>Avenches</td>\n",
       "      <td>5451</td>\n",
       "      <td>7.040607</td>\n",
       "      <td>46.880248</td>\n",
       "      <td>NaN</td>\n",
       "    </tr>\n",
       "    <tr>\n",
       "      <th>1110921</th>\n",
       "      <td>76</td>\n",
       "      <td>FOR_ALL</td>\n",
       "      <td>always</td>\n",
       "      <td>True</td>\n",
       "      <td>yes</td>\n",
       "      <td>2569193.0</td>\n",
       "      <td>1189751.0</td>\n",
       "      <td>NaN</td>\n",
       "      <td>False</td>\n",
       "      <td>NaN</td>\n",
       "      <td>...</td>\n",
       "      <td>m</td>\n",
       "      <td>3</td>\n",
       "      <td>1580</td>\n",
       "      <td>VD</td>\n",
       "      <td>Avenches</td>\n",
       "      <td>Avenches</td>\n",
       "      <td>5451</td>\n",
       "      <td>7.040607</td>\n",
       "      <td>46.880248</td>\n",
       "      <td>NaN</td>\n",
       "    </tr>\n",
       "    <tr>\n",
       "      <th>1110922</th>\n",
       "      <td>70</td>\n",
       "      <td>FOR_ALL</td>\n",
       "      <td>never</td>\n",
       "      <td>False</td>\n",
       "      <td>yes</td>\n",
       "      <td>2569193.0</td>\n",
       "      <td>1189751.0</td>\n",
       "      <td>NaN</td>\n",
       "      <td>False</td>\n",
       "      <td>NaN</td>\n",
       "      <td>...</td>\n",
       "      <td>f</td>\n",
       "      <td>3</td>\n",
       "      <td>1580</td>\n",
       "      <td>VD</td>\n",
       "      <td>Avenches</td>\n",
       "      <td>Avenches</td>\n",
       "      <td>5451</td>\n",
       "      <td>7.040607</td>\n",
       "      <td>46.880248</td>\n",
       "      <td>NaN</td>\n",
       "    </tr>\n",
       "    <tr>\n",
       "      <th>1111181</th>\n",
       "      <td>61</td>\n",
       "      <td>FOR_ALL</td>\n",
       "      <td>always</td>\n",
       "      <td>False</td>\n",
       "      <td>yes</td>\n",
       "      <td>2569340.0</td>\n",
       "      <td>1189900.0</td>\n",
       "      <td>NaN</td>\n",
       "      <td>False</td>\n",
       "      <td>NaN</td>\n",
       "      <td>...</td>\n",
       "      <td>f</td>\n",
       "      <td>3</td>\n",
       "      <td>1580</td>\n",
       "      <td>VD</td>\n",
       "      <td>Avenches</td>\n",
       "      <td>Avenches</td>\n",
       "      <td>5451</td>\n",
       "      <td>7.040607</td>\n",
       "      <td>46.880248</td>\n",
       "      <td>NaN</td>\n",
       "    </tr>\n",
       "  </tbody>\n",
       "</table>\n",
       "<p>5 rows × 24 columns</p>\n",
       "</div>"
      ],
      "text/plain": [
       "         age bikeAvailability carAvail  employed hasLicense     home_x  \\\n",
       "id                                                                       \n",
       "1069770   85         FOR_NONE    never     False         no  2569239.0   \n",
       "1103868   85         FOR_NONE    never     False         no  2569239.0   \n",
       "1110921   76          FOR_ALL   always      True        yes  2569193.0   \n",
       "1110922   70          FOR_ALL    never     False        yes  2569193.0   \n",
       "1111181   61          FOR_ALL   always     False        yes  2569340.0   \n",
       "\n",
       "            home_y  householdIncome  isCarPassenger  municipalityType  ...  \\\n",
       "id                                                                     ...   \n",
       "1069770  1190194.0              NaN           False               NaN  ...   \n",
       "1103868  1190194.0              NaN           False               NaN  ...   \n",
       "1110921  1189751.0              NaN           False               NaN  ...   \n",
       "1110922  1189751.0              NaN           False               NaN  ...   \n",
       "1111181  1189900.0              NaN           False               NaN  ...   \n",
       "\n",
       "         sex  spRegion  postcode  canton     local  municipality  muni_index  \\\n",
       "id                                                                             \n",
       "1069770    f         3      1580      VD  Avenches      Avenches        5451   \n",
       "1103868    f         3      1580      VD  Avenches      Avenches        5451   \n",
       "1110921    m         3      1580      VD  Avenches      Avenches        5451   \n",
       "1110922    f         3      1580      VD  Avenches      Avenches        5451   \n",
       "1111181    f         3      1580      VD  Avenches      Avenches        5451   \n",
       "\n",
       "          wgs84_e    wgs84_n agent_index  \n",
       "id                                        \n",
       "1069770  7.040607  46.880248         NaN  \n",
       "1103868  7.040607  46.880248         NaN  \n",
       "1110921  7.040607  46.880248         NaN  \n",
       "1110922  7.040607  46.880248         NaN  \n",
       "1111181  7.040607  46.880248         NaN  \n",
       "\n",
       "[5 rows x 24 columns]"
      ]
     },
     "execution_count": 19,
     "metadata": {},
     "output_type": "execute_result"
    }
   ],
   "source": [
    "pop_attributes = pd.read_csv(_POPULATION_ATTRIBUTES_PATH_, index_col=\"id\")\n",
    "pop_attributes.head()"
   ]
  },
  {
   "cell_type": "code",
   "execution_count": 20,
   "id": "7c4296c1-2271-4a8f-8877-11b182f14764",
   "metadata": {},
   "outputs": [
    {
     "data": {
      "text/plain": [
       "id\n",
       "1069770     0\n",
       "1103868    13\n",
       "1110921    18\n",
       "1110922    19\n",
       "1111181    20\n",
       "Name: agent_index, dtype: int64"
      ]
     },
     "execution_count": 20,
     "metadata": {},
     "output_type": "execute_result"
    }
   ],
   "source": [
    "# If the dataset has already been translated, we want our code to still run, and update the result.\n",
    "if 'agent_index' in pop_attributes.columns:\n",
    "    pop_attributes = pop_attributes.drop('agent_index', axis=1)\n",
    "pop_attributes = pop_attributes.join(agents_translations)\n",
    "pop_attributes['agent_index'].head()"
   ]
  },
  {
   "cell_type": "code",
   "execution_count": 21,
   "id": "7cf81bb9-be73-4f54-88b7-33c9b175aea1",
   "metadata": {},
   "outputs": [],
   "source": [
    "pop_attributes.to_csv(_POPULATION_ATTRIBUTES_PATH_, index=True)"
   ]
  },
  {
   "cell_type": "markdown",
   "id": "ed7934fd-d1ad-4456-8c2d-c96b2cc3ff5a",
   "metadata": {},
   "source": [
    "## Activities per period\n",
    "While running the model, we'll most likely need the activities per period. "
   ]
  },
  {
   "cell_type": "code",
   "execution_count": 22,
   "id": "f529638d-5320-4510-bf6c-eaa59793dedd",
   "metadata": {},
   "outputs": [
    {
     "name": "stdout",
     "output_type": "stream",
     "text": [
      "<class 'pandas.core.frame.DataFrame'>\n",
      "RangeIndex: 21355565 entries, 0 to 21355564\n",
      "Data columns (total 5 columns):\n",
      " #   Column    Dtype \n",
      "---  ------    ----- \n",
      " 0   id        int64 \n",
      " 1   type      object\n",
      " 2   facility  object\n",
      " 3   age       int64 \n",
      " 4   period    object\n",
      "dtypes: int64(2), object(3)\n",
      "memory usage: 814.7+ MB\n"
     ]
    }
   ],
   "source": [
    "# Loads the activities per period as a single dataframe (might be very large !)\n",
    "period_activities = pd.read_csv('../data/abm/vaud/prepared/vaud_period_activities.csv.gz')\n",
    "period_activities.info()"
   ]
  },
  {
   "cell_type": "markdown",
   "id": "d62efb78-894c-443a-bcd6-40a41d17110f",
   "metadata": {},
   "source": [
    "We'll prcocess the periods successively: for each period, we'll isolate the activities that occurred during that time; then translate the facility and agent; and finally save the result to a specific file.  "
   ]
  },
  {
   "cell_type": "code",
   "execution_count": 23,
   "id": "515cdc1a-37c4-45da-ab7b-23ef8d14015a",
   "metadata": {},
   "outputs": [],
   "source": [
    "# Computes the unique periods in the dataset\n",
    "unique_periods = period_activities['period'].unique()"
   ]
  },
  {
   "cell_type": "code",
   "execution_count": 25,
   "id": "52cdf53c-5709-41a5-8fd7-bfc7695a9010",
   "metadata": {},
   "outputs": [
    {
     "name": "stdout",
     "output_type": "stream",
     "text": [
      "Processing period  1900-01-01 00:00:00\n",
      "Processing period  1900-01-01 01:00:00\n",
      "Processing period  1900-01-01 02:00:00\n",
      "Processing period  1900-01-01 03:00:00\n",
      "Processing period  1900-01-01 04:00:00\n",
      "Processing period  1900-01-01 05:00:00\n",
      "Processing period  1900-01-01 06:00:00\n",
      "Processing period  1900-01-01 07:00:00\n",
      "Processing period  1900-01-01 08:00:00\n",
      "Processing period  1900-01-01 09:00:00\n",
      "Processing period  1900-01-01 10:00:00\n",
      "Processing period  1900-01-01 11:00:00\n",
      "Processing period  1900-01-01 12:00:00\n",
      "Processing period  1900-01-01 13:00:00\n",
      "Processing period  1900-01-01 14:00:00\n",
      "Processing period  1900-01-01 15:00:00\n",
      "Processing period  1900-01-01 16:00:00\n",
      "Processing period  1900-01-01 17:00:00\n",
      "Processing period  1900-01-01 18:00:00\n",
      "Processing period  1900-01-01 19:00:00\n",
      "Processing period  1900-01-01 20:00:00\n",
      "Processing period  1900-01-01 21:00:00\n",
      "Processing period  1900-01-01 22:00:00\n",
      "Processing period  1900-01-01 23:00:00\n"
     ]
    }
   ],
   "source": [
    "for period_index, period in enumerate(unique_periods):\n",
    "    print(\"Processing period \", period)\n",
    "    # Isolate the activities that occurred during that period\n",
    "    sub_activ = period_activities[period_activities['period'] == period]\n",
    "    # Translate the agent ids to agent index\n",
    "    sub_activ = sub_activ.merge(agents_translations, left_on=\"id\", right_index=True)\n",
    "    # Translate the facility names to indexes\n",
    "    sub_activ = sub_activ.merge(facilities_translations, left_on=\"facility\", right_index=True)\n",
    "    # Only keep the relevant info\n",
    "    sub_activ = sub_activ.drop(['age', 'period', 'id', 'facility'], axis=1)\n",
    "    # Save the sub dataset\n",
    "    sub_activ.to_csv(os.path.join(_PERIOD_ACTIVITIES_REP_, f\"{str(period_index)}.csv.gz\"),\n",
    "                    index=False)"
   ]
  }
 ],
 "metadata": {
  "kernelspec": {
   "display_name": "Python 3 (ipykernel)",
   "language": "python",
   "name": "python3"
  },
  "language_info": {
   "codemirror_mode": {
    "name": "ipython",
    "version": 3
   },
   "file_extension": ".py",
   "mimetype": "text/x-python",
   "name": "python",
   "nbconvert_exporter": "python",
   "pygments_lexer": "ipython3",
   "version": "3.10.9"
  }
 },
 "nbformat": 4,
 "nbformat_minor": 5
}
